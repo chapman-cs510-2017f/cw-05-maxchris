{
 "cells": [
  {
   "cell_type": "code",
   "execution_count": 0,
   "metadata": {
    "collapsed": false
   },
   "outputs": [
   ],
   "source": [
    "import cplane"
   ]
  },
  {
   "cell_type": "markdown",
   "metadata": {
    "collapsed": false
   },
   "source": [
    "Example Functions you can use for this notebook\n",
    "P = ListComplexPlane(1,2,2,1,2,2)\n",
    "P.refresh()\n",
    "P.apply(lambda x:x+2)\n",
    "P.zoom(2,3,2,2,3,2)\n",
    "Need to use a print statement to see output\n",
    "\n",
    "Abstract class is class which is declared, it was designed, to be used as a base class, which containe one pure vurtual function. We can dclere a vurtual function, by using the specifier. They can not be initiated, but it can help the programmer to make a subclass. When abstract class is subclass, it provides implementation for all of the abstract methods in it parent class. Abstract class is useful to reuse the code again, and it has features that are common to the range of data types and can be overridden. Any class with an abstract method is automatically abstract itself and must deffine itself with the key word 'abstract'."
   ]
  }
 ],
 "metadata": {
  "kernelspec": {
   "display_name": "Python 3 (Anaconda)",
   "language": "python",
   "name": "anaconda3"
  },
  "language_info": {
   "codemirror_mode": {
    "name": "ipython",
    "version": 3
   },
   "file_extension": ".py",
   "mimetype": "text/x-python",
   "name": "python",
   "nbconvert_exporter": "python",
   "pygments_lexer": "ipython3",
   "version": "3.5.4"
  }
 },
 "nbformat": 4,
 "nbformat_minor": 0
}