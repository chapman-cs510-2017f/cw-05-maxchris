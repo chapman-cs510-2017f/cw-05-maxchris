{
 "cells": [
  {
   "cell_type": "code",
   "execution_count": 22,
   "metadata": {
    "collapsed": false
   },
   "outputs": [
   ],
   "source": [
    "from cplane import ListComplexPlane"
   ]
  },
  {
   "cell_type": "markdown",
   "metadata": {
    "collapsed": false
   },
   "source": [
    "# cplane class\n",
    "\n",
    "The cplane class builds the complex plane given the parameters xmin, xmax, xlen, ymin, ymax, ylen. The following is a demonstration of this class. \n"
   ]
  },
  {
   "cell_type": "code",
   "execution_count": 23,
   "metadata": {
    "collapsed": false
   },
   "outputs": [
    {
     "name": "stdout",
     "output_type": "stream",
     "text": [
      "[[(1+1j), (1+2j)], [(2+1j), (2+2j)]]\n"
     ]
    }
   ],
   "source": [
    "P = ListComplexPlane(1,2,2,1,2,2)\n",
    "print(P.refresh())"
   ]
  },
  {
   "cell_type": "markdown",
   "metadata": {
    "collapsed": false
   },
   "source": [
    "The complex plane is built from the parameter values using the refresh function. "
   ]
  },
  {
   "cell_type": "code",
   "execution_count": 24,
   "metadata": {
    "collapsed": false
   },
   "outputs": [
    {
     "name": "stdout",
     "output_type": "stream",
     "text": [
      "[[(3+1j), (3+2j)], [(4+1j), (4+2j)]]\n"
     ]
    }
   ],
   "source": [
    "print(P.apply(lambda x:x+2))"
   ]
  },
  {
   "cell_type": "markdown",
   "metadata": {
    "collapsed": false
   },
   "source": [
    "The apply function applys some function f to the complex plane and stores f. "
   ]
  },
  {
   "cell_type": "code",
   "execution_count": 25,
   "metadata": {
    "collapsed": false,
    "scrolled": true
   },
   "outputs": [
    {
     "name": "stdout",
     "output_type": "stream",
     "text": [
      "[[(4+2j), (4+3j)], [(5+2j), (5+3j)]]\n"
     ]
    }
   ],
   "source": [
    "print(P.zoom(2,3,2,2,3,2))"
   ]
  },
  {
   "cell_type": "markdown",
   "metadata": {
    "collapsed": false
   },
   "source": [
    "The zoom function makes a new complex plane with the new parameters and applys the functions f that were used before."
   ]
  },
  {
   "cell_type": "markdown",
   "metadata": {
    "collapsed": false
   },
   "source": [
    "There were three different tests used to verify that the functions refresh, apply, and zoom worked properly. Using small grids, we were able to predict what the output of these functions should be and built the tests. The abstract base class helps the programmer organize the code and is useful for having a baseline of what is expected. It is also very useful for collaboration with other colleagues to help with good code structure, and have common functionality of classes."
   ]
  }
 ],
 "metadata": {
  "kernelspec": {
   "display_name": "Python 3 (Anaconda)",
   "language": "python",
   "name": "anaconda3"
  },
  "language_info": {
   "codemirror_mode": {
    "name": "ipython",
    "version": 3
   },
   "file_extension": ".py",
   "mimetype": "text/x-python",
   "name": "python",
   "nbconvert_exporter": "python",
   "pygments_lexer": "ipython3",
   "version": "3.5.4"
  }
 },
 "nbformat": 4,
 "nbformat_minor": 0
}