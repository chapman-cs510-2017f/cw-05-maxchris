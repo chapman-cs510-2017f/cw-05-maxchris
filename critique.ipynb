{
 "cells": [
  {
   "cell_type": "markdown",
   "metadata": {
    "collapsed": false
   },
   "source": [
    "# Group Critique of Chris' Classwork 4\n",
    "\n",
    "The code structure is clear but there are not enough docstrings or comments accourding to industry standards. The code is clear when explained but by just looking at it, it is not as clear. A suggestion to improve the code is adding more comments. For the test cases, we should add more functions rather than assert multiple times in the same test case function. If the test failed we wouldn't know which assert statement is the problem. It would be better to have multiple test functions for this reason. The notebook was clear and explained the results of the functions well. "
   ]
  },
  {
   "cell_type": "markdown",
   "metadata": {
    "collapsed": false
   },
   "source": [
    "# Grade\n",
    "90"
   ]
  }
 ],
 "metadata": {
  "kernelspec": {
   "display_name": "Python 3 (Anaconda)",
   "language": "python",
   "name": "anaconda3"
  },
  "language_info": {
   "codemirror_mode": {
    "name": "ipython",
    "version": 3
   },
   "file_extension": ".py",
   "mimetype": "text/x-python",
   "name": "python",
   "nbconvert_exporter": "python",
   "pygments_lexer": "ipython3",
   "version": "3.5.4"
  }
 },
 "nbformat": 4,
 "nbformat_minor": 0
}